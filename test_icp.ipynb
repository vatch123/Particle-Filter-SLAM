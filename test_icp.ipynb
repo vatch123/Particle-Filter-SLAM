{
 "cells": [
  {
   "cell_type": "code",
   "execution_count": 1,
   "metadata": {},
   "outputs": [
    {
     "name": "stderr",
     "output_type": "stream",
     "text": [
      "<frozen importlib._bootstrap>:228: RuntimeWarning: scipy._lib.messagestream.MessageStream size changed, may indicate binary incompatibility. Expected 56 from C header, got 64 from PyObject\n"
     ]
    }
   ],
   "source": [
    "from src.scan_matching import ICP\n",
    "from src.icp import icp as py_icp\n",
    "from src.new_icp import icp as hn_icp\n",
    "import numpy as np"
   ]
  },
  {
   "cell_type": "code",
   "execution_count": 2,
   "metadata": {},
   "outputs": [
    {
     "data": {
      "text/plain": [
       "(array([[ 0.8660254, -0.5      ],\n",
       "        [ 0.5      ,  0.8660254]]),\n",
       " array([1, 1]))"
      ]
     },
     "execution_count": 2,
     "metadata": {},
     "output_type": "execute_result"
    }
   ],
   "source": [
    "a = np.array([[0., 0.],\n",
    "              [0., 2.],\n",
    "              [1., 3.],\n",
    "              [2., 2.],\n",
    "              [2., 0.]])\n",
    "\n",
    "ang = np.radians(30)\n",
    "R = np.array([[np.cos(ang), - np.sin(ang)],\n",
    "              [np.sin(ang), np.cos(ang)]])\n",
    "\n",
    "t = np.array([1, 1])\n",
    "\n",
    "b = R @ a.T + t[:, None]\n",
    "b = b.T\n",
    "\n",
    "R, t"
   ]
  },
  {
   "cell_type": "code",
   "execution_count": 3,
   "metadata": {},
   "outputs": [
    {
     "data": {
      "text/plain": [
       "(array([[ 0.99999928,  0.001197  ,  0.09114525],\n",
       "        [-0.001197  ,  0.99999928,  1.04042848],\n",
       "        [ 0.        ,  0.        ,  1.        ]]),\n",
       " array([[1.00000000e+00, 1.00000000e+00],\n",
       "        [2.22044605e-16, 2.73205081e+00],\n",
       "        [3.66025404e-01, 4.09807621e+00],\n",
       "        [1.73205081e+00, 3.73205081e+00],\n",
       "        [2.73205081e+00, 2.00000000e+00]]))"
      ]
     },
     "execution_count": 3,
     "metadata": {},
     "output_type": "execute_result"
    }
   ],
   "source": [
    "icp = ICP()\n",
    "icp(a, b, n_iter=20)"
   ]
  },
  {
   "cell_type": "code",
   "execution_count": 4,
   "metadata": {},
   "outputs": [
    {
     "data": {
      "text/plain": [
       "(array([[ 0.89544721, -0.44516771,  1.16701807],\n",
       "        [ 0.44516771,  0.89544721,  0.94043668],\n",
       "        [ 0.        ,  0.        ,  1.        ]]),\n",
       " array([0.97578534, 0.66142086, 0.75391645, 0.66142086, 0.97578534]))"
      ]
     },
     "execution_count": 4,
     "metadata": {},
     "output_type": "execute_result"
    }
   ],
   "source": [
    "py_icp(a, b)"
   ]
  },
  {
   "cell_type": "code",
   "execution_count": 5,
   "metadata": {},
   "outputs": [
    {
     "data": {
      "text/plain": [
       "(array([[ 0.99999928,  0.001197  ,  0.09114525],\n",
       "        [-0.001197  ,  0.99999928,  1.04042848],\n",
       "        [ 0.        ,  0.        ,  1.        ]]),\n",
       " array([[0.09114525, 1.04042848],\n",
       "        [0.09353924, 3.04042705],\n",
       "        [1.09473552, 4.03922934],\n",
       "        [2.0935378 , 3.03803306],\n",
       "        [2.09114381, 1.03803449]]))"
      ]
     },
     "execution_count": 5,
     "metadata": {},
     "output_type": "execute_result"
    }
   ],
   "source": [
    "hn_icp(a, b, R_initial=np.eye(2), t_initial=np.zeros(2))"
   ]
  },
  {
   "cell_type": "code",
   "execution_count": 7,
   "metadata": {},
   "outputs": [],
   "source": [
    "AA = np.array([[-1. , -1.4],\n",
    "       [-1. ,  0.6],\n",
    "       [ 0. ,  1.6],\n",
    "       [ 1. ,  0.6],\n",
    "       [ 1. , -1.4]])\n",
    "\n",
    "BB = np.array([[ 0.05358984, -0.89282032],\n",
    "       [-0.94641016,  0.83923048],\n",
    "       [-0.94641016,  0.83923048],\n",
    "       [ 1.78564065,  0.10717968],\n",
    "       [ 0.05358984, -0.89282032]])"
   ]
  },
  {
   "cell_type": "code",
   "execution_count": 8,
   "metadata": {},
   "outputs": [
    {
     "data": {
      "text/plain": [
       "array([[ 2.73205081, -0.7320508 ],\n",
       "       [-1.16076951,  4.41051176]])"
      ]
     },
     "execution_count": 8,
     "metadata": {},
     "output_type": "execute_result"
    }
   ],
   "source": [
    "np.sum(AA[..., None] @ BB[:,None, :], axis=0)"
   ]
  },
  {
   "cell_type": "code",
   "execution_count": 31,
   "metadata": {},
   "outputs": [
    {
     "name": "stdout",
     "output_type": "stream",
     "text": [
      "[[-0.05358984  0.89282032]\n",
      " [-0.07502578  1.24994845]]\n",
      "[[ 0.94641016 -0.83923048]\n",
      " [-0.5678461   0.50353829]]\n",
      "[[ 0.          0.        ]\n",
      " [-1.51425626  1.34276877]]\n",
      "[[1.78564065 0.10717968]\n",
      " [1.07138439 0.06430781]]\n",
      "[[ 0.05358984 -0.89282032]\n",
      " [-0.07502578  1.24994845]]\n"
     ]
    },
    {
     "data": {
      "text/plain": [
       "array([[ 2.73205081, -0.7320508 ],\n",
       "       [-1.16076951,  4.41051176]])"
      ]
     },
     "execution_count": 31,
     "metadata": {},
     "output_type": "execute_result"
    }
   ],
   "source": [
    "c = np.zeros((2,2))\n",
    "\n",
    "for i in range(5):\n",
    "  delt = AA[i, np.newaxis].T @ BB[i, np.newaxis]\n",
    "  print(delt)\n",
    "  c += delt\n",
    "\n",
    "c"
   ]
  },
  {
   "cell_type": "code",
   "execution_count": 9,
   "metadata": {},
   "outputs": [
    {
     "data": {
      "text/plain": [
       "array([[ 2.73205081, -0.7320508 ],\n",
       "       [-1.16076951,  4.41051176]])"
      ]
     },
     "execution_count": 9,
     "metadata": {},
     "output_type": "execute_result"
    }
   ],
   "source": [
    "H = np.dot(AA.T, BB)\n",
    "H"
   ]
  },
  {
   "cell_type": "code",
   "execution_count": 35,
   "metadata": {},
   "outputs": [],
   "source": [
    "U, S, Vt = np.linalg.svd(H)"
   ]
  },
  {
   "cell_type": "code",
   "execution_count": 36,
   "metadata": {},
   "outputs": [
    {
     "data": {
      "text/plain": [
       "array([[ 0.99820347, -0.05991526],\n",
       "       [ 0.05991526,  0.99820347]])"
      ]
     },
     "execution_count": 36,
     "metadata": {},
     "output_type": "execute_result"
    }
   ],
   "source": [
    "np.dot(Vt.T, U.T)"
   ]
  },
  {
   "cell_type": "code",
   "execution_count": 37,
   "metadata": {},
   "outputs": [
    {
     "data": {
      "text/plain": [
       "array([[ 0.99820347,  0.05991526],\n",
       "       [-0.05991526,  0.99820347]])"
      ]
     },
     "execution_count": 37,
     "metadata": {},
     "output_type": "execute_result"
    }
   ],
   "source": [
    "U @ Vt"
   ]
  }
 ],
 "metadata": {
  "kernelspec": {
   "display_name": "proj2",
   "language": "python",
   "name": "python3"
  },
  "language_info": {
   "codemirror_mode": {
    "name": "ipython",
    "version": 3
   },
   "file_extension": ".py",
   "mimetype": "text/x-python",
   "name": "python",
   "nbconvert_exporter": "python",
   "pygments_lexer": "ipython3",
   "version": "3.9.16"
  }
 },
 "nbformat": 4,
 "nbformat_minor": 2
}
