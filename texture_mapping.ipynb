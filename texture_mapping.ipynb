{
 "cells": [
  {
   "cell_type": "code",
   "execution_count": 5,
   "metadata": {},
   "outputs": [],
   "source": [
    "import os\n",
    "import numpy as np\n",
    "import matplotlib.pyplot as plt\n",
    "import matplotlib.animation as ani\n",
    "from scipy import signal, linalg\n",
    "from tqdm import tqdm\n",
    "import transforms3d as t3d\n",
    "import cv2\n",
    "\n",
    "from src.load_data import load_all_data\n",
    "from utils import *\n",
    "from src.map import MAP"
   ]
  },
  {
   "cell_type": "code",
   "execution_count": 6,
   "metadata": {},
   "outputs": [],
   "source": [
    "import warnings\n",
    "warnings.filterwarnings(\"ignore\")"
   ]
  },
  {
   "cell_type": "code",
   "execution_count": 7,
   "metadata": {},
   "outputs": [],
   "source": [
    "dataset = 20\n",
    "data = load_all_data(dataset)\n",
    "dir_path = os.path.join(os.getcwd(), \"data/dataRGBD/\")"
   ]
  },
  {
   "cell_type": "code",
   "execution_count": 8,
   "metadata": {},
   "outputs": [],
   "source": [
    "robot_trajectory = np.load('deadreckoning-trajectory.npy')\n",
    "robot_theta = np.load('deadreckoning-theta.npy')"
   ]
  },
  {
   "cell_type": "code",
   "execution_count": 9,
   "metadata": {},
   "outputs": [],
   "source": [
    "camera_R = t3d.euler.euler2mat(0,0.36,0.021)\n",
    "camera_p_body_frame = np.array([0.16766, 0, 0.38])\n",
    "K = np.array([[585.05108211, 0, 242.94140713], [0, 585.05108211, 315.83800193], [0, 0, 1]])\n",
    "R_o_r = np.array([[0, -1, 0], [0, 0, -1], [1, 0, 0]])\n",
    "lidar_position_wrt_body = np.array([0.13673, 0, 0.51435])"
   ]
  },
  {
   "cell_type": "code",
   "execution_count": 10,
   "metadata": {},
   "outputs": [
    {
     "data": {
      "text/plain": [
       "((2407,), (2289,))"
      ]
     },
     "execution_count": 10,
     "metadata": {},
     "output_type": "execute_result"
    }
   ],
   "source": [
    "data.disp_stamps.shape, data.rgb_stamps.shape"
   ]
  },
  {
   "cell_type": "code",
   "execution_count": 11,
   "metadata": {},
   "outputs": [],
   "source": [
    "occupancy_map = np.load(\"dead-occupancy-map.npy\")"
   ]
  },
  {
   "cell_type": "code",
   "execution_count": 15,
   "metadata": {},
   "outputs": [
    {
     "name": "stderr",
     "output_type": "stream",
     "text": [
      "  1%|▏         | 31/2289 [00:19<23:54,  1.57it/s]  \n"
     ]
    },
    {
     "ename": "KeyboardInterrupt",
     "evalue": "",
     "output_type": "error",
     "traceback": [
      "\u001b[0;31m---------------------------------------------------------------------------\u001b[0m",
      "\u001b[0;31mKeyboardInterrupt\u001b[0m                         Traceback (most recent call last)",
      "Cell \u001b[0;32mIn [15], line 92\u001b[0m\n\u001b[1;32m     88\u001b[0m     rgbv \u001b[39m=\u001b[39m rgbv[valid]\n\u001b[1;32m     91\u001b[0m     mp\u001b[39m.\u001b[39mMAP[\u001b[39m\"\u001b[39m\u001b[39mmap\u001b[39m\u001b[39m\"\u001b[39m][xis, yis, :] \u001b[39m=\u001b[39m rgb_img[rgbv, rgbu, :]\n\u001b[0;32m---> 92\u001b[0m     color_map \u001b[39m=\u001b[39m mp\u001b[39m.\u001b[39mMAP[\u001b[39m\"\u001b[39m\u001b[39mmap\u001b[39m\u001b[39m\"\u001b[39m] \u001b[39m*\u001b[39m binary_map[:,:,\u001b[39mNone\u001b[39;00m]\n\u001b[1;32m     93\u001b[0m     frames\u001b[39m.\u001b[39mappend(color_map)\n\u001b[1;32m     96\u001b[0m mp\u001b[39m.\u001b[39mMAP[\u001b[39m\"\u001b[39m\u001b[39mmap\u001b[39m\u001b[39m\"\u001b[39m] \u001b[39m=\u001b[39m mp\u001b[39m.\u001b[39mMAP[\u001b[39m\"\u001b[39m\u001b[39mmap\u001b[39m\u001b[39m\"\u001b[39m]\u001b[39m.\u001b[39mastype(np\u001b[39m.\u001b[39mint16)\n",
      "\u001b[0;31mKeyboardInterrupt\u001b[0m: "
     ]
    }
   ],
   "source": [
    "binary_map = np.zeros_like(occupancy_map)\n",
    "binary_map[occupancy_map == 100] = 0\n",
    "binary_map[occupancy_map == -100] = 1\n",
    "\n",
    "num_rgb_imgs = data.rgb_stamps.shape[0]\n",
    "\n",
    "resolution = 0.01\n",
    "xmin = -15\n",
    "ymin = -15\n",
    "xmax = 30\n",
    "ymax = 30\n",
    "\n",
    "mp = MAP(resolution, xmin, ymin, xmax, ymax)\n",
    "mp.convert_to_color()\n",
    "frames = []\n",
    "for img_idx in tqdm(range(num_rgb_imgs)):\n",
    "    rgb_path = os.path.join(dir_path, f\"RGB{dataset}/rgb{dataset}_{img_idx+1}.png\")\n",
    "    rgb_img = cv2.imread(rgb_path)\n",
    "    rgb_img = rgb_img[...,::-1]\n",
    "\n",
    "    rgb_timestamp = data.rgb_stamps[img_idx]\n",
    "    disp_idx = np.argmin(np.abs(data.disp_stamps - rgb_timestamp)) + 1\n",
    "\n",
    "    disp_path = os.path.join(dir_path, f\"Disparity{dataset}/disparity{dataset}_{disp_idx}.png\")\n",
    "    disp_img = cv2.imread(disp_path, cv2.IMREAD_UNCHANGED)\n",
    "\n",
    "    # convert from disparity from uint16 to double\n",
    "    disparity = disp_img.astype(np.float32)\n",
    "\n",
    "    # get depth\n",
    "    dd = (-0.00304 * disparity + 3.31)\n",
    "    z = 1.03 / dd\n",
    "\n",
    "\n",
    "    # calculate u and v coordinates \n",
    "    v,u = np.mgrid[0:disparity.shape[0],0:disparity.shape[1]]\n",
    "    #u,v = np.meshgrid(np.arange(disparity.shape[1]),np.arange(disparity.shape[0]))\n",
    "\n",
    "    # get 3D coordinates \n",
    "    fx = 585.05108211\n",
    "    fy = 585.05108211\n",
    "    cx = 315.83800193\n",
    "    cy = 242.94140713\n",
    "    x = (u-cx) / fx * z\n",
    "    y = (v-cy) / fy * z\n",
    "\n",
    "    # calculate the location of each pixel in the RGB image\n",
    "    rgbu = np.round((u * 526.37 + dd*(-4.5*1750.46) + 19276.0)/fx)\n",
    "    rgbv = np.round((v * 526.37 + 16662.0)/fy)\n",
    "    rgbu = rgbu.astype(np.int32)\n",
    "    rgbv = rgbv.astype(np.int32)\n",
    "\n",
    "    x = x.reshape(-1)\n",
    "    y = y.reshape(-1)\n",
    "    z = z.reshape(-1)\n",
    "\n",
    "    optical_coordinates = np.stack([x,y,z])\n",
    "\n",
    "    real_coordinates_camera = np.linalg.inv(R_o_r) @ optical_coordinates.reshape((3,-1))\n",
    "    coordinates_body = camera_R @ real_coordinates_camera + camera_p_body_frame[:, None]\n",
    "\n",
    "    r_idx = np.argmin(np.abs(data.lidar_stamps - rgb_timestamp))\n",
    "    \n",
    "    body_p = robot_trajectory[:, r_idx]\n",
    "    body_p = np.hstack((body_p, 0))\n",
    "    \n",
    "    R_p = get_rotation_matrix(robot_theta[:, r_idx])\n",
    "    R_p = np.pad(R_p, (0, 1), 'constant', constant_values=(0))\n",
    "    R_p[-1,-1] = 1\n",
    "\n",
    "    coordinates_world = R_p @ coordinates_body + body_p[:, None]\n",
    "    xis, yis = mp.get_pixel_coordinates(coordinates_world)\n",
    "\n",
    "    # Get only those indexes whose z-coordinate is lower than lidar\n",
    "    valid = coordinates_world[2,:] <= lidar_position_wrt_body[2]\n",
    "\n",
    "    # Filter wrt to z\n",
    "    xis = xis[valid]\n",
    "    yis = yis[valid]\n",
    "    rgbu = rgbu.reshape(-1)[valid]\n",
    "    rgbv = rgbv.reshape(-1)[valid]\n",
    "\n",
    "    # Now filter wrt to valid rgbu, rgbv values\n",
    "    valid = (rgbu>= 0)&(rgbu < disparity.shape[1])&(rgbv>=0)&(rgbv<disparity.shape[0])\n",
    "    xis = xis[valid]\n",
    "    yis = yis[valid]\n",
    "    rgbu = rgbu[valid]\n",
    "    rgbv = rgbv[valid]\n",
    "\n",
    "\n",
    "    mp.MAP[\"map\"][xis, yis, :] = rgb_img[rgbv, rgbu, :]\n",
    "    color_map = mp.MAP[\"map\"] * binary_map[:,:,None]\n",
    "    frames.append(color_map)\n",
    "        \n",
    "\n",
    "mp.MAP[\"map\"] = mp.MAP[\"map\"].astype(np.int16)\n"
   ]
  },
  {
   "cell_type": "code",
   "execution_count": null,
   "metadata": {},
   "outputs": [],
   "source": [
    "np.save(\"texture.npy\", mp.MAP[\"map\"])"
   ]
  },
  {
   "cell_type": "code",
   "execution_count": null,
   "metadata": {},
   "outputs": [],
   "source": [
    "savepath = os.path.join(os.getcwd(), \"results/dataset20/texture/\")\n",
    "idx = 0\n",
    "for frm in tqdm(frames):\n",
    "    idx += 1\n",
    "    plt.imsave(savepath + f\"{idx*100}.png\", frm.astype(np.uint8))"
   ]
  },
  {
   "cell_type": "code",
   "execution_count": null,
   "metadata": {},
   "outputs": [],
   "source": []
  },
  {
   "cell_type": "code",
   "execution_count": null,
   "metadata": {},
   "outputs": [],
   "source": [
    "binary_map = np.zeros_like(occupancy_map)\n",
    "binary_map[occupancy_map == 100] = 0\n",
    "binary_map[occupancy_map == -100] = 1"
   ]
  },
  {
   "cell_type": "code",
   "execution_count": null,
   "metadata": {},
   "outputs": [],
   "source": [
    "plt.imshow(binary_map)"
   ]
  },
  {
   "cell_type": "code",
   "execution_count": null,
   "metadata": {},
   "outputs": [],
   "source": [
    "tmap = mp.MAP[\"map\"] * binary_map[:,:, None]\n",
    "tmap = tmap.astype(np.int16)\n",
    "\n",
    "plt.imshow(tmap)"
   ]
  },
  {
   "cell_type": "code",
   "execution_count": null,
   "metadata": {},
   "outputs": [],
   "source": [
    "plt.imshow(mp.MAP[\"map\"].astype(np.int16))\n",
    "plt.savefig(\"text.png\")"
   ]
  },
  {
   "cell_type": "code",
   "execution_count": null,
   "metadata": {},
   "outputs": [],
   "source": [
    "data.disp_stamps.shape, data.rgb_stamps.shape"
   ]
  },
  {
   "cell_type": "code",
   "execution_count": null,
   "metadata": {},
   "outputs": [],
   "source": [
    "import numpy as np\n",
    "import matplotlib.pyplot as plt\n",
    "import cv2\n",
    "from IPython.display import clear_output\n",
    "color_grid = np.zeros([1000,1000,3],dtype='uint8')\n",
    "\n",
    "\n",
    "disp_path = \"/home/vatsalya/UCSD/ECE276A_PR2/data/dataRGBD/Disparity20/\"\n",
    "rgb_path = \"/home/vatsalya/UCSD/ECE276A_PR2/data/dataRGBD/RGB20/\"\n",
    "\n",
    "def normalize(img):\n",
    "    max_ = img.max()\n",
    "    min_ = img.min()\n",
    "    return (img - min_)/(max_-min_)\n",
    "\n",
    "\n",
    "for t in range(data.rgb_stamps.shape[0]-1): \n",
    "# load RGBD image\n",
    "  #rgb_idx = time_index_encoder_rgb[encoder_stamps[t]]\n",
    "  disp_idx = time_index_rgb_disp[rgb_stamps[t]]+1\n",
    "  \n",
    "  imd = cv2.imread(disp_path+'disparity{}_{}.png'.format(20,disp_idx),cv2.IMREAD_UNCHANGED) # (480 x 640)\n",
    "  imc = cv2.imread(rgb_path+'rgb{}_{}.png'.format(20, t+1))[...,::-1] # (480 x 640 x 3)\n",
    "  #print(imc.shape)\n",
    "  r, g, b = cv2.split(imc)\n",
    "\n",
    "  # convert from disparity from uint16 to double\n",
    "  disparity = imd.astype(np.float32)\n",
    "\n",
    "  # get depth\n",
    "  dd = (-0.00304 * disparity + 3.31)\n",
    "  z = 1.03 / dd\n",
    "\n",
    "\n",
    "  # calculate u and v coordinates \n",
    "  v,u = np.mgrid[0:disparity.shape[0],0:disparity.shape[1]]\n",
    "  #u,v = np.meshgrid(np.arange(disparity.shape[1]),np.arange(disparity.shape[0]))\n",
    "\n",
    "  # get 3D coordinates \n",
    "  fx = 585.05108211\n",
    "  fy = 585.05108211\n",
    "  cx = 315.83800193\n",
    "  cy = 242.94140713\n",
    "  x = (u-cx) / fx * z\n",
    "  y = (v-cy) / fy * z\n",
    "\n",
    "  # calculate the location of each pixel in the RGB image\n",
    "  rgbu = np.round((u * 526.37 + dd*(-4.5*1750.46) + 19276.0)/fx)\n",
    "  rgbv = np.round((v * 526.37 + 16662.0)/fy)\n",
    "  valid = (rgbu>= 0)&(rgbu < disparity.shape[1])&(rgbv>=0)&(rgbv<disparity.shape[0])\n",
    "\n",
    "  rows = rgbu.shape[0]\n",
    "  cols = rgbv.shape[1]\n",
    "\n",
    "  rgbu = rgbu.reshape(-1)\n",
    "  rgbv = rgbv.reshape(-1)\n",
    "  z=z.reshape(-1)\n",
    "  u = rgbu * z\n",
    "  v = rgbv * z\n",
    "  image_mat = np.vstack((u,v,z))\n",
    "\n",
    "  # cam_frame_coords = np.apply_along_axis(pixel_to_cam,0,image_mat)\n",
    "  # body_frame_coords = np.apply_along_axis(pix_cam_to_body,0,cam_frame_coords)\n",
    "  # world_frame_coords = np.apply_along_axis(pix_body_to_world,0,body_frame_coords,np.array([0,0,0]))\n",
    "\n",
    "  cam_frame_coords = pixel_to_cam(image_mat)\n",
    "  body_frame_coords = pix_cam_to_body(cam_frame_coords)\n",
    "  world_frame_coords = pix_body_to_world(body_frame_coords,best_pose_estimate[:,time_index_rgb_encoder[rgb_stamps[t]]-1])\n",
    "  # # print(world_frame_coords[:,0])\n",
    "\n",
    "  X_world = world_frame_coords[0,:]\n",
    "  Y_world = world_frame_coords[1,:]\n",
    "  Z_world = world_frame_coords[2,:]\n",
    "\n",
    "  ind_thres = np.where(Z_world <=0.5)\n",
    "  Y_world = Y_world[ind_thres]\n",
    "  X_world = X_world[ind_thres]\n",
    "  #Y_world = Y_world\n",
    "\n",
    "\n",
    "  x_cell_idx = (600 - (X_world//0.09)).astype(int)\n",
    "  y_cell_idx = (600 - (Y_world//0.09)).astype(int)\n",
    "  #print(x_cell_idx)\n",
    "\n",
    "  r = r.reshape([rows*cols,1])[ind_thres]\n",
    "  g = g.reshape([rows*cols,1])[ind_thres]\n",
    "  b = b.reshape([rows*cols,1])[ind_thres]\n",
    "\n",
    "  # r = r.reshape([rows*cols,1])\n",
    "  # g = g.reshape([rows*cols,1])\n",
    "  # b = b.reshape([rows*cols,1])\n",
    "\n",
    "  #print(x_cell_idx.shape)\n",
    "\n",
    "\n",
    "  color_grid[x_cell_idx,y_cell_idx,:] = np.hstack([r,g,b]) \n",
    "\n",
    "  if t%50 ==0:\n",
    "     clear_output()\n",
    "     plt.imshow(color_grid)\n",
    "     plt.show()"
   ]
  }
 ],
 "metadata": {
  "kernelspec": {
   "display_name": "proj2",
   "language": "python",
   "name": "python3"
  },
  "language_info": {
   "codemirror_mode": {
    "name": "ipython",
    "version": 3
   },
   "file_extension": ".py",
   "mimetype": "text/x-python",
   "name": "python",
   "nbconvert_exporter": "python",
   "pygments_lexer": "ipython3",
   "version": "3.9.16"
  },
  "orig_nbformat": 4,
  "vscode": {
   "interpreter": {
    "hash": "f37b4ae528fadbc6d921b1924e3ba04fb2abb6155edba13951ccb4bec74bf962"
   }
  }
 },
 "nbformat": 4,
 "nbformat_minor": 2
}
